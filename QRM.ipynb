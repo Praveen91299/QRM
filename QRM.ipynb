{
 "cells": [
  {
   "cell_type": "code",
   "execution_count": 11,
   "metadata": {},
   "outputs": [
    {
     "name": "stdout",
     "output_type": "stream",
     "text": [
      "57880\n",
      "20664\n",
      "5096\n",
      "66\n",
      "\n",
      " 1 3\n",
      "16\n",
      "12\n",
      "10\n",
      "\n",
      " 2 4\n",
      "61\n",
      "53\n",
      "30\n",
      "\n",
      " 3 4\n",
      "65\n",
      "29\n",
      "32\n",
      "\n",
      " 2 5\n",
      "176\n",
      "112\n",
      "66\n",
      "\n",
      " 3 5\n",
      "206\n",
      "150\n",
      "78\n",
      "\n",
      " 4 5\n",
      "211\n",
      "61\n",
      "80\n",
      "\n",
      " 5 5\n",
      "211\n",
      "0\n",
      "80\n",
      "\n",
      " 3 6\n",
      "614\n",
      "470\n",
      "176\n",
      "\n",
      " 4 6\n",
      "659\n",
      "367\n",
      "190\n",
      "\n",
      " 5 6\n",
      "665\n",
      "125\n",
      "192\n",
      "\n",
      " 3 7\n",
      "1744\n",
      "960\n",
      "372\n",
      "\n",
      " 4 7\n",
      "1989\n",
      "1389\n",
      "430\n",
      "\n",
      " 5 7\n",
      "2052\n",
      "840\n",
      "446\n",
      "\n",
      " 6 7\n",
      "2059\n",
      "253\n",
      "448\n",
      "\n",
      " 4 8\n",
      "5821\n",
      "3933\n",
      "930\n",
      "\n",
      " 5 8\n",
      "6213\n",
      "3605\n",
      "1004\n",
      "\n",
      " 6 8\n",
      "6297\n",
      "1857\n",
      "1022\n",
      "\n",
      " 7 8\n",
      "6305\n",
      "509\n",
      "1024\n",
      "\n",
      " 8 10\n",
      "58015\n",
      "8627\n",
      "5118\n",
      "\n",
      " 9 10\n",
      "58025\n",
      "2045\n",
      "5120\n"
     ]
    }
   ],
   "source": [
    "#QRM gate counts\n",
    "#June 27th 2023\n",
    "import math\n",
    "import numpy as np\n",
    "from qrm_counts import *\n",
    "r, m = 7, 10\n",
    "\n",
    "print(naive_CX_count(r, m))\n",
    "print(std_CX_count(r, m))\n",
    "print(rec_CX_count(r, m))\n",
    "\n",
    "param_list = [(1, 3), (2, 4), (3, 4), (2, 5), (3, 5), (4, 5), (5, 5), (3, 6), (4, 6), (5, 6), (3, 7), (4, 7), (5, 7), (6, 7), (4, 8), (5, 8), (6, 8), (7, 8), (8, 10), (9, 10)]\n",
    "\n",
    "print(rec_CX_count_assym(2, 5, 2, 5))\n",
    "\n",
    "for params in param_list:\n",
    "    r, m = params\n",
    "    print('\\n', r, m)\n",
    "    print(naive_CX_count(r, m))\n",
    "    print(std_CX_count(r, m))\n",
    "    print(rec_CX_count(r, m))"
   ]
  },
  {
   "cell_type": "code",
   "execution_count": 5,
   "metadata": {},
   "outputs": [
    {
     "data": {
      "text/plain": [
       "65"
      ]
     },
     "execution_count": 5,
     "metadata": {},
     "output_type": "execute_result"
    }
   ],
   "source": [
    "rec_CX_count_assym()"
   ]
  },
  {
   "cell_type": "code",
   "execution_count": null,
   "metadata": {},
   "outputs": [],
   "source": [
    "print(rec_CX_count_assym(2, 5, 2, 5))"
   ]
  },
  {
   "cell_type": "code",
   "execution_count": 5,
   "metadata": {},
   "outputs": [
    {
     "name": "stdout",
     "output_type": "stream",
     "text": [
      "25\n",
      "4 4\n"
     ]
    }
   ],
   "source": [
    "from qrm_counts import rec_CX_count_assym, Urm_CX_count, Urr_CX_count\n",
    "r, m = (2, 4)\n",
    "print(rec_CX_count_assym(r, m, r, m))\n",
    "print(Urm_CX_count(r, r), Urr_CX_count(r))"
   ]
  },
  {
   "cell_type": "code",
   "execution_count": 3,
   "metadata": {},
   "outputs": [
    {
     "name": "stdout",
     "output_type": "stream",
     "text": [
      "([3, 5, 6, 9, 10, 12], [1, 2, 4, 0, 8])       ┌───┐                                                                 \n",
      " q_0: ┤ H ├─────────────────────────────────────■───────────────────■────■──\n",
      "      ├───┤                                     │                   │  ┌─┴─┐\n",
      " q_1: ┤ H ├─────────────────■───────────────────┼────■─────────■────┼──┤ X ├\n",
      "      ├───┤                 │                   │    │         │  ┌─┴─┐└───┘\n",
      " q_2: ┤ H ├─────────────────┼────■──────────────┼────┼────■────┼──┤ X ├──■──\n",
      "      └───┘                 │    │              │    │    │  ┌─┴─┐└───┘┌─┴─┐\n",
      " q_3: ───────■──────────────┼────┼────■─────────┼────┼────┼──┤ X ├─────┤ X ├\n",
      "      ┌───┐  │              │    │    │       ┌─┴─┐  │    │  └───┘     └───┘\n",
      " q_4: ┤ H ├──┼──────────────┼────┼────┼────■──┤ X ├──┼────┼─────────■────■──\n",
      "      └───┘  │              │    │    │    │  └───┘┌─┴─┐  │         │  ┌─┴─┐\n",
      " q_5: ───────┼────■─────────┼────┼────┼────┼───────┤ X ├──┼────■────┼──┤ X ├\n",
      "             │    │         │    │    │    │       └───┘┌─┴─┐  │  ┌─┴─┐└───┘\n",
      " q_6: ───────┼────┼────■────┼────┼────┼────┼────────────┤ X ├──┼──┤ X ├──■──\n",
      "             │    │    │    │    │  ┌─┴─┐  │            └───┘┌─┴─┐└───┘┌─┴─┐\n",
      " q_7: ───────┼────┼────┼────┼────┼──┤ X ├──┼─────────────────┤ X ├─────┤ X ├\n",
      "      ┌───┐  │    │    │    │    │  └───┘  │                 └───┘     └───┘\n",
      " q_8: ┤ H ├──┼────┼────┼────┼────┼─────────┼────■─────────■─────────■───────\n",
      "      └───┘  │    │    │  ┌─┴─┐  │         │    │         │       ┌─┴─┐     \n",
      " q_9: ───────┼────┼────┼──┤ X ├──┼────■────┼────┼─────────┼────■──┤ X ├─────\n",
      "             │    │    │  └───┘┌─┴─┐  │    │    │       ┌─┴─┐  │  └───┘     \n",
      "q_10: ───────┼────┼────┼───────┤ X ├──┼────┼────┼────■──┤ X ├──┼────■───────\n",
      "           ┌─┴─┐  │    │       └───┘  │    │    │    │  └───┘┌─┴─┐┌─┴─┐     \n",
      "q_11: ─────┤ X ├──┼────┼────■─────────┼────┼────┼────┼───────┤ X ├┤ X ├─────\n",
      "           └───┘  │    │    │         │  ┌─┴─┐┌─┴─┐  │       └───┘└───┘     \n",
      "q_12: ────────────┼────┼────┼─────────┼──┤ X ├┤ X ├──┼────■────■────────────\n",
      "                ┌─┴─┐  │    │       ┌─┴─┐└───┘└───┘  │    │  ┌─┴─┐          \n",
      "q_13: ──────────┤ X ├──┼────┼───────┤ X ├──■─────────┼────┼──┤ X ├──────────\n",
      "                └───┘┌─┴─┐  │       └───┘  │       ┌─┴─┐┌─┴─┐└───┘          \n",
      "q_14: ───────────────┤ X ├──┼──────────────┼───────┤ X ├┤ X ├──■────────────\n",
      "                     └───┘┌─┴─┐          ┌─┴─┐     └───┘└───┘┌─┴─┐          \n",
      "q_15: ────────────────────┤ X ├──────────┤ X ├───────────────┤ X ├──────────\n",
      "                          └───┘          └───┘               └───┘          \n",
      "c: 16/══════════════════════════════════════════════════════════════════════\n",
      "                                                                             5 35\n"
     ]
    },
    {
     "data": {
      "text/plain": [
       "True"
      ]
     },
     "execution_count": 3,
     "metadata": {},
     "output_type": "execute_result"
    }
   ],
   "source": [
    "#CSS encoders\n",
    "import tequila\n",
    "from qrm_circuits import QRM_std_circuit, QRM_rec_circuit\n",
    "from qrm_utils import *\n",
    "from qrm_circuits import QRM_std_circuit\n",
    "from qrm_matrices import *\n",
    "\n",
    "#need to generalize stuff\n",
    "r, m = 2, 4\n",
    "circuit, info = QRM_rec_circuit(r, m, partitions=[1, [1], [1]])\n",
    "std_circuit, info2 = QRM_std_circuit(r, m)\n",
    "qiskit_cir = get_qiskit_circuit(circuit)\n",
    "print(info, qiskit_cir, circuit.depth, len(circuit.gates))\n",
    "check_if_same_circuit(circuit, std_circuit)"
   ]
  },
  {
   "cell_type": "code",
   "execution_count": null,
   "metadata": {},
   "outputs": [],
   "source": [
    "def QRM0_rec_circuit(r, m, partitions = [], qubit_list = None, only_cnots = False):\n",
    "    U = tequila.QCircuit()\n",
    "    msg_q = []\n",
    "    ent_q = []\n",
    "    if m == 0:\n",
    "        return U, (qubit_list, [])\n",
    "    if qubit_list == None:\n",
    "        qubit_list = list(range(2**m))\n",
    "    \n",
    "    if partitions != []:\n",
    "        ql_1, ql_2 = apply_qubit_partition(partitions[0], qubit_list)\n",
    "        if len(partitions) > 1:\n",
    "            p1 = partitions[1]\n",
    "            if len(partitions) > 2:\n",
    "                p2 = partitions[2]\n",
    "            else:\n",
    "                p2 = []\n",
    "        else:\n",
    "            p1, p2 = [], []\n",
    "    else:\n",
    "        ql_1, ql_2 = qubit_list[:2**(m-1)], qubit_list[2**(m-1):]\n",
    "        p1, p2 = [], []\n",
    "    \n",
    "    if r == m:\n",
    "        for a, b in zip(ql_1, ql_2):\n",
    "            U += tequila.gates.CX(control=a, target=b)\n",
    "        U1, info_1 = QRM_rec_circuit(r-1, m-1, partitions=p1, qubit_list=ql_1)\n",
    "        U2, info_2 = QRM_rec_circuit(r-1, m-1, partitions=p2, qubit_list=ql_2)\n",
    "        U = U + U1 + U2\n",
    "        return U, (qubit_list, info_1[1] + info_2[1])\n",
    "    \n",
    "    U1, info_1 = QRM_rec_circuit(r, m-1, partitions=p1, qubit_list=ql_1)\n",
    "    U2, info_2 = QRM_rec_circuit(r, m-1, partitions=p2, qubit_list=ql_2)\n",
    "    if r > m-r-1:\n",
    "        #add message ents\n",
    "        Gm = get_QRM_generators_r1r2(m-r, r, m-1)\n",
    "        lbs = [leading_bit_index(row) for row in Gm]\n",
    "        qm1 = [ql_1[i] for i in lbs]\n",
    "        qm2 = [ql_2[i] for i in lbs]\n",
    "        for a, b in zip(qm1, qm2):\n",
    "            U += tequila.gates.CX(control=a, target=b)\n",
    "        msg_q += qm1\n",
    "    \n",
    "    Gent = get_QRM_generators_r1r2(m-r-1, m-r-1, m-1)\n",
    "    lbs = [leading_bit_index(row) for row in Gent]\n",
    "    qent1 = [ql_1[i] for i in lbs]\n",
    "    qent2 = [ql_2[i] for i in lbs]\n",
    "    if not only_cnots:\n",
    "        U += tequila.gates.H(target=qent1)\n",
    "    for a, b in zip(qent1, qent2):\n",
    "        U += tequila.gates.CX(control=a, target=b)\n",
    "\n",
    "    U += U1\n",
    "    U += U2\n",
    "\n",
    "    ent_q += qent1 + info_1[1] + info_2[1]\n",
    "    msg_q = [leading_bit_index(row) for row in get_QRM_generators_r1r2(m-r, r, m)] #This is a placeholder. Need to figure out message bit pass recursively, should be msg_q + something\n",
    "    return U, (msg_q, ent_q)"
   ]
  },
  {
   "cell_type": "code",
   "execution_count": 1,
   "metadata": {},
   "outputs": [
    {
     "name": "stdout",
     "output_type": "stream",
     "text": [
      "66 33\n"
     ]
    },
    {
     "data": {
      "text/plain": [
       "True"
      ]
     },
     "execution_count": 1,
     "metadata": {},
     "output_type": "execute_result"
    }
   ],
   "source": [
    "import tequila\n",
    "from qrm_circuits import QRM_rec_circuit, QRM_std_circuit\n",
    "only_cnots = False\n",
    "circuit, info1 = QRM_rec_circuit(3, 4, only_cnots=only_cnots)\n",
    "circuit_std, info2 = QRM_std_circuit(3, 4, only_cnots=only_cnots, transform_rows=False)\n",
    "msg = tequila.QCircuit()\n",
    "\n",
    "msg += tequila.gates.H(target=info1[0][0])\n",
    "msg += tequila.gates.CX(target=info1[0][1], control=info1[0][0])\n",
    "print(len(circuit_std.gates), len(circuit.gates))\n",
    "from qrm_utils import check_if_same_circuit\n",
    "\n",
    "check_if_same_circuit(msg + circuit, msg + circuit_std)"
   ]
  },
  {
   "cell_type": "code",
   "execution_count": 4,
   "metadata": {},
   "outputs": [
    {
     "ename": "ImportError",
     "evalue": "attempted relative import with no known parent package",
     "output_type": "error",
     "traceback": [
      "\u001b[0;31m---------------------------------------------------------------------------\u001b[0m",
      "\u001b[0;31mImportError\u001b[0m                               Traceback (most recent call last)",
      "\u001b[1;32m/Users/praveenjayakumar/Jay Family Dropbox/praveen jayakumar/6.To-Fro Praveen/UToronto/codes backup/projects/QRM/QRM.ipynb Cell 3\u001b[0m in \u001b[0;36m1\n\u001b[1;32m     <a href='vscode-notebook-cell:/Users/praveenjayakumar/Jay%20Family%20Dropbox/praveen%20jayakumar/6.To-Fro%20Praveen/UToronto/codes%20backup/projects/QRM/QRM.ipynb#W6sZmlsZQ%3D%3D?line=13'>14</a>\u001b[0m BH \u001b[39m=\u001b[39m BinaryHamiltonian(binary_terms\u001b[39m=\u001b[39mbps)\n\u001b[1;32m     <a href='vscode-notebook-cell:/Users/praveenjayakumar/Jay%20Family%20Dropbox/praveen%20jayakumar/6.To-Fro%20Praveen/UToronto/codes%20backup/projects/QRM/QRM.ipynb#W6sZmlsZQ%3D%3D?line=15'>16</a>\u001b[0m stuff \u001b[39m=\u001b[39m BH\u001b[39m.\u001b[39mget_qubit_wise()\n\u001b[0;32m---> <a href='vscode-notebook-cell:/Users/praveenjayakumar/Jay%20Family%20Dropbox/praveen%20jayakumar/6.To-Fro%20Praveen/UToronto/codes%20backup/projects/QRM/QRM.ipynb#W6sZmlsZQ%3D%3D?line=17'>18</a>\u001b[0m \u001b[39mfrom\u001b[39;00m \u001b[39m.\u001b[39;00m\u001b[39mmitigation\u001b[39;00m\u001b[39m.\u001b[39;00m\u001b[39mfff_stuff\u001b[39;00m \u001b[39mimport\u001b[39;00m transpile_circuits\n\u001b[1;32m     <a href='vscode-notebook-cell:/Users/praveenjayakumar/Jay%20Family%20Dropbox/praveen%20jayakumar/6.To-Fro%20Praveen/UToronto/codes%20backup/projects/QRM/QRM.ipynb#W6sZmlsZQ%3D%3D?line=19'>20</a>\u001b[0m transpile_circuits(stuff)\n",
      "\u001b[0;31mImportError\u001b[0m: attempted relative import with no known parent package"
     ]
    }
   ],
   "source": [
    "#generate check matrix and find the diagonalizing circuit\n",
    "from qrm_matrices import *\n",
    "r, m = (2, 3)\n",
    "G = Grm(r, m)\n",
    "H = Hrm(r, m)\n",
    "#HCSS = \n",
    "\n",
    "import tequila\n",
    "from tequila.grouping.binary_rep import BinaryPauliString, BinaryHamiltonian\n",
    "\n",
    "H = Hqrm(1, 3)\n",
    "\n",
    "bps = [BinaryPauliString(binary_vector=bv, coeff=1.0) for bv in H]\n",
    "BH = BinaryHamiltonian(binary_terms=bps)\n",
    "\n",
    "stuff = BH.get_qubit_wise()"
   ]
  }
 ],
 "metadata": {
  "kernelspec": {
   "display_name": "res3",
   "language": "python",
   "name": "python3"
  },
  "language_info": {
   "codemirror_mode": {
    "name": "ipython",
    "version": 3
   },
   "file_extension": ".py",
   "mimetype": "text/x-python",
   "name": "python",
   "nbconvert_exporter": "python",
   "pygments_lexer": "ipython3",
   "version": "3.9.15"
  },
  "orig_nbformat": 4,
  "vscode": {
   "interpreter": {
    "hash": "1cbb96700004a34b5b75f3b1f67fc325a248128bb0bc7375b13065a45acdb7c7"
   }
  }
 },
 "nbformat": 4,
 "nbformat_minor": 2
}
