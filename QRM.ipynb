{
 "cells": [
  {
   "cell_type": "code",
   "execution_count": 1,
   "metadata": {},
   "outputs": [
    {
     "name": "stdout",
     "output_type": "stream",
     "text": [
      "57880\n",
      "20664\n",
      "5096\n",
      "66\n",
      "\n",
      " 1 3\n",
      "16\n",
      "12\n",
      "10\n",
      "\n",
      " 2 4\n",
      "61\n",
      "53\n",
      "30\n",
      "\n",
      " 3 4\n",
      "65\n",
      "29\n",
      "32\n",
      "\n",
      " 2 5\n",
      "176\n",
      "112\n",
      "66\n",
      "\n",
      " 3 5\n",
      "206\n",
      "150\n",
      "78\n",
      "\n",
      " 4 5\n",
      "211\n",
      "61\n",
      "80\n",
      "\n",
      " 5 5\n",
      "211\n",
      "0\n",
      "80\n",
      "\n",
      " 3 6\n",
      "614\n",
      "470\n",
      "176\n",
      "\n",
      " 4 6\n",
      "659\n",
      "367\n",
      "190\n",
      "\n",
      " 5 6\n",
      "665\n",
      "125\n",
      "192\n",
      "\n",
      " 3 7\n",
      "1744\n",
      "960\n",
      "372\n",
      "\n",
      " 4 7\n",
      "1989\n",
      "1389\n",
      "430\n",
      "\n",
      " 5 7\n",
      "2052\n",
      "840\n",
      "446\n",
      "\n",
      " 6 7\n",
      "2059\n",
      "253\n",
      "448\n",
      "\n",
      " 4 8\n",
      "5821\n",
      "3933\n",
      "930\n",
      "\n",
      " 5 8\n",
      "6213\n",
      "3605\n",
      "1004\n",
      "\n",
      " 6 8\n",
      "6297\n",
      "1857\n",
      "1022\n",
      "\n",
      " 7 8\n",
      "6305\n",
      "509\n",
      "1024\n",
      "\n",
      " 8 10\n",
      "58015\n",
      "8627\n",
      "5118\n",
      "\n",
      " 9 10\n",
      "58025\n",
      "2045\n",
      "5120\n"
     ]
    }
   ],
   "source": [
    "#QRM gate counts\n",
    "#June 27th 2023\n",
    "import math\n",
    "import numpy as np\n",
    "from qrm_counts import *\n",
    "r, m = 7, 10\n",
    "\n",
    "print(naive_CX_count(r, m))\n",
    "print(std_CX_count(r, m))\n",
    "print(rec_CX_count(r, m))\n",
    "\n",
    "param_list = [(1, 3), (2, 4), (3, 4), (2, 5), (3, 5), (4, 5), (5, 5), (3, 6), (4, 6), (5, 6), (3, 7), (4, 7), (5, 7), (6, 7), (4, 8), (5, 8), (6, 8), (7, 8), (8, 10), (9, 10)]\n",
    "\n",
    "print(rec_CX_count_assym(2, 5, 2, 5))\n",
    "\n",
    "for params in param_list:\n",
    "    r, m = params\n",
    "    print('\\n', r, m)\n",
    "    print(naive_CX_count(r, m))\n",
    "    print(std_CX_count(r, m))\n",
    "    print(rec_CX_count(r, m))"
   ]
  },
  {
   "cell_type": "code",
   "execution_count": 1,
   "metadata": {},
   "outputs": [
    {
     "name": "stdout",
     "output_type": "stream",
     "text": [
      "stim.Circuit('''\n",
      "    H 0\n",
      "    CX 0 1 3 4\n",
      "    M 0 1\n",
      "''')\n"
     ]
    },
    {
     "ename": "NameError",
     "evalue": "name 'stim_CNOT_list' is not defined",
     "output_type": "error",
     "traceback": [
      "\u001b[0;31m---------------------------------------------------------------------------\u001b[0m",
      "\u001b[0;31mNameError\u001b[0m                                 Traceback (most recent call last)",
      "Cell \u001b[0;32mIn[1], line 16\u001b[0m\n\u001b[1;32m     11\u001b[0m \u001b[39m# Let's see the circuit's representation using stim's circuit language:\u001b[39;00m\n\u001b[1;32m     12\u001b[0m \u001b[39mprint\u001b[39m(\u001b[39mrepr\u001b[39m(circuit))\n\u001b[0;32m---> 16\u001b[0m circuit \u001b[39m=\u001b[39m stim_CNOT_list(circuit, [\u001b[39m0\u001b[39m, \u001b[39m1\u001b[39m], [\u001b[39m2\u001b[39m, \u001b[39m3\u001b[39m])\n\u001b[1;32m     17\u001b[0m circuit \u001b[39m=\u001b[39m stim_H_list(circuit, [\u001b[39m0\u001b[39m, \u001b[39m1\u001b[39m])\n\u001b[1;32m     18\u001b[0m \u001b[39mprint\u001b[39m(circuit)\n",
      "\u001b[0;31mNameError\u001b[0m: name 'stim_CNOT_list' is not defined"
     ]
    }
   ],
   "source": [
    "import stim\n",
    "circuit = stim.Circuit()\n",
    "\n",
    "# First, the circuit will initialize a Bell pair.\n",
    "circuit.append(\"H\", [0])\n",
    "circuit.append(\"CNOT\", [0, 1, 3, 4])\n",
    "\n",
    "# Then, the circuit will measure both qubits of the Bell pair in the Z basis.\n",
    "circuit.append(\"M\", [0, 1])\n",
    "\n",
    "# Let's see the circuit's representation using stim's circuit language:\n",
    "print(repr(circuit))\n",
    "\n",
    "\n",
    "\n",
    "circuit = stim_CNOT_list(circuit, [0, 1], [2, 3])\n",
    "circuit = stim_H_list(circuit, [0, 1])\n",
    "print(circuit)"
   ]
  },
  {
   "cell_type": "code",
   "execution_count": 25,
   "metadata": {},
   "outputs": [],
   "source": [
    "from qrm_circuits import QRM_rec_circuit, tequila_to_stim\n",
    "\n",
    "circ, info = QRM_rec_circuit(3, 4)\n",
    "\n",
    "st_circuit= tequila_to_stim(circ)\n",
    "st_circuit.append(\"DEPOLARIZE2\", [0, 1, 2, 3], 0.5)"
   ]
  },
  {
   "cell_type": "code",
   "execution_count": 12,
   "metadata": {},
   "outputs": [
    {
     "name": "stdout",
     "output_type": "stream",
     "text": [
      "                                                                            »\n",
      " q_0: ──■──────────────■────────────────────────■────────────────────────■──»\n",
      "        │              │                        │                      ┌─┴─┐»\n",
      " q_1: ──┼────■─────────┼────■───────────────────┼───────────────────■──┤ X ├»\n",
      "        │    │       ┌─┴─┐  │                   │                   │  └───┘»\n",
      " q_2: ──┼────┼────■──┤ X ├──┼───────────────────┼────■──────────────┼───────»\n",
      "        │    │    │  └───┘┌─┴─┐                 │    │              │       »\n",
      " q_3: ──┼────┼────┼────■──┤ X ├─────────────────┼────┼──────────────┼────■──»\n",
      "      ┌─┴─┐  │    │    │  └───┘                 │    │              │    │  »\n",
      " q_4: ┤ X ├──┼────┼────┼────■─────────■─────────┼────┼─────────■────┼────┼──»\n",
      "      └───┘┌─┴─┐  │    │    │         │         │    │       ┌─┴─┐  │    │  »\n",
      " q_5: ─────┤ X ├──┼────┼────┼────■────┼─────────┼────┼────■──┤ X ├──┼────┼──»\n",
      "           └───┘┌─┴─┐  │  ┌─┴─┐  │    │         │    │    │  └───┘  │    │  »\n",
      " q_6: ──────────┤ X ├──┼──┤ X ├──┼────┼────■────┼────┼────┼─────────┼────┼──»\n",
      "                └───┘┌─┴─┐└───┘┌─┴─┐  │    │    │    │    │         │    │  »\n",
      " q_7: ───────────────┤ X ├─────┤ X ├──┼────┼────┼────┼────┼────■────┼────┼──»\n",
      "                     └───┘     └───┘  │    │  ┌─┴─┐  │    │    │    │    │  »\n",
      " q_8: ─────────────────■────■─────────┼────┼──┤ X ├──┼────┼────┼────┼────┼──»\n",
      "                       │    │         │    │  └───┘  │    │    │  ┌─┴─┐  │  »\n",
      " q_9: ──■──────────────┼────┼────■────┼────┼─────────┼────┼────┼──┤ X ├──┼──»\n",
      "        │              │  ┌─┴─┐  │    │    │       ┌─┴─┐  │    │  └───┘  │  »\n",
      "q_10: ──┼────■─────────┼──┤ X ├──┼────┼────┼───────┤ X ├──┼────┼─────────┼──»\n",
      "        │    │         │  └───┘┌─┴─┐  │    │       └───┘  │    │       ┌─┴─┐»\n",
      "q_11: ──┼────┼────■────┼───────┤ X ├──┼────┼──────────────┼────┼───────┤ X ├»\n",
      "        │    │    │  ┌─┴─┐     └───┘┌─┴─┐  │              │    │       └───┘»\n",
      "q_12: ──┼────┼────┼──┤ X ├──■───────┤ X ├──┼──────────────┼────┼────■───────»\n",
      "      ┌─┴─┐  │    │  └───┘  │       └───┘  │            ┌─┴─┐  │  ┌─┴─┐     »\n",
      "q_13: ┤ X ├──┼────┼────■────┼──────────────┼────────────┤ X ├──┼──┤ X ├─────»\n",
      "      └───┘┌─┴─┐  │    │  ┌─┴─┐          ┌─┴─┐          └───┘  │  └───┘     »\n",
      "q_14: ─────┤ X ├──┼────┼──┤ X ├──────────┤ X ├─────────────────┼────■───────»\n",
      "           └───┘┌─┴─┐┌─┴─┐└───┘          └───┘               ┌─┴─┐┌─┴─┐     »\n",
      "q_15: ──────────┤ X ├┤ X ├───────────────────────────────────┤ X ├┤ X ├─────»\n",
      "                └───┘└───┘                                   └───┘└───┘     »\n",
      "c: 16/══════════════════════════════════════════════════════════════════════»\n",
      "                                                                            »\n",
      "«           \n",
      "« q_0: ─────\n",
      "«           \n",
      "« q_1: ─────\n",
      "«           \n",
      "« q_2: ──■──\n",
      "«      ┌─┴─┐\n",
      "« q_3: ┤ X ├\n",
      "«      └───┘\n",
      "« q_4: ─────\n",
      "«           \n",
      "« q_5: ─────\n",
      "«           \n",
      "« q_6: ──■──\n",
      "«      ┌─┴─┐\n",
      "« q_7: ┤ X ├\n",
      "«      └───┘\n",
      "« q_8: ──■──\n",
      "«      ┌─┴─┐\n",
      "« q_9: ┤ X ├\n",
      "«      └───┘\n",
      "«q_10: ──■──\n",
      "«      ┌─┴─┐\n",
      "«q_11: ┤ X ├\n",
      "«      └───┘\n",
      "«q_12: ─────\n",
      "«           \n",
      "«q_13: ─────\n",
      "«           \n",
      "«q_14: ─────\n",
      "«           \n",
      "«q_15: ─────\n",
      "«           \n",
      "«c: 16/═════\n",
      "«           \n"
     ]
    }
   ],
   "source": [
    "from qrm_circuits import QRM_rec_circuit, get_qubit_partition\n",
    "from qrm_utils import get_qiskit_circuit\n",
    "\n",
    "c, i = QRM_rec_circuit(3, 4, partitions=[2, [2], [2]], only_cnots=True)\n",
    "print(get_qiskit_circuit(c))"
   ]
  },
  {
   "cell_type": "code",
   "execution_count": 5,
   "metadata": {},
   "outputs": [
    {
     "name": "stdout",
     "output_type": "stream",
     "text": [
      "r: 1 m: 3, |0>: 8 |+>: 8\n",
      "r: 1 m: 4, |0>: 20 |+>: 20\n",
      "r: 2 m: 5, |0>: 60 |+>: 60\n",
      "r: 2 m: 6, |0>: 137 |+>: 137\n",
      "r: 2 m: 7, |0>: 294 |+>: 294\n"
     ]
    }
   ],
   "source": [
    "from qrm_counts import rec_CX_count_assym_punc\n",
    "param_list = [(1, 3), (1, 4), (2, 5), (2, 6), (2, 7)]\n",
    "for param in param_list:\n",
    "    r, m = param\n",
    "    a = rec_CX_count_assym_punc(r, m, r, m, state_prep=True)\n",
    "    b = rec_CX_count_assym_punc(r, m, r, m, state_prep=False)\n",
    "    print('r: {} m: {}, |0>: {} |+>: {}'.format(r, m, a, b))\n",
    "    "
   ]
  },
  {
   "cell_type": "code",
   "execution_count": 1,
   "metadata": {},
   "outputs": [
    {
     "name": "stdout",
     "output_type": "stream",
     "text": [
      "0 2\n",
      "     ┌───┐                         \n",
      "q_0: ┤ H ├──■─────────■────────────\n",
      "     ├───┤  │         │            \n",
      "q_1: ┤ H ├──┼────■────┼────■───────\n",
      "     └───┘  │    │  ┌─┴─┐┌─┴─┐     \n",
      "q_2: ───────┼────┼──┤ X ├┤ X ├─────\n",
      "     ┌───┐  │    │  └───┘└───┘     \n",
      "q_3: ┤ H ├──┼────┼────■─────────■──\n",
      "     └───┘┌─┴─┐  │    │       ┌─┴─┐\n",
      "q_4: ─────┤ X ├──┼────┼────■──┤ X ├\n",
      "          └───┘┌─┴─┐┌─┴─┐  │  └───┘\n",
      "q_5: ──────────┤ X ├┤ X ├──┼────■──\n",
      "               └───┘└───┘┌─┴─┐┌─┴─┐\n",
      "q_6: ────────────────────┤ X ├┤ X ├\n",
      "                         └───┘└───┘\n",
      "c: 7/══════════════════════════════\n",
      "                                         ┌───┐                                                                 \n",
      "q_0: ┤ H ├───────■────■───────────────────■────■────■────■────■────■────■──\n",
      "     ├───┤       │    │                   │  ┌─┴─┐  │    │    │    │    │  \n",
      "q_1: ┤ H ├──■────┼────┼────■─────────■────┼──┤ X ├──┼────┼────┼────┼────┼──\n",
      "     └───┘┌─┴─┐┌─┴─┐  │    │         │    │  └───┘┌─┴─┐  │    │    │    │  \n",
      "q_2: ─────┤ X ├┤ X ├──┼────┼─────────┼────┼───────┤ X ├──┼────┼────┼────┼──\n",
      "     ┌───┐└───┘└───┘  │    │         │    │       └───┘┌─┴─┐  │    │    │  \n",
      "q_3: ┤ H ├──■────■────┼────┼────■────┼────┼────────────┤ X ├──┼────┼────┼──\n",
      "     └───┘┌─┴─┐  │  ┌─┴─┐  │    │    │    │            └───┘┌─┴─┐  │    │  \n",
      "q_4: ─────┤ X ├──┼──┤ X ├──┼────┼────┼────┼─────────────────┤ X ├──┼────┼──\n",
      "          └───┘┌─┴─┐└───┘┌─┴─┐  │    │    │                 └───┘┌─┴─┐  │  \n",
      "q_5: ──────────┤ X ├─────┤ X ├──┼────┼────┼──────────────────────┤ X ├──┼──\n",
      "               └───┘     └───┘┌─┴─┐┌─┴─┐┌─┴─┐                    └───┘┌─┴─┐\n",
      "q_6: ─────────────────────────┤ X ├┤ X ├┤ X ├─────────────────────────┤ X ├\n",
      "                              └───┘└───┘└───┘                         └───┘\n",
      "c: 7/══════════════════════════════════════════════════════════════════════\n",
      "                                                                           \n",
      "False\n"
     ]
    }
   ],
   "source": [
    "from qrm_circuits import QRM_rec_punc_circuit, QRM_punc_std_circuit, canonical_CSS\n",
    "from qrm_utils import get_qiskit_circuit, check_if_same_circuit\n",
    "from qrm_matrices import get_QRM_punc_generator\n",
    "import tequila\n",
    "\n",
    "r, m = 1, 3\n",
    "c, i = QRM_rec_punc_circuit(r, m)\n",
    "#c2, i2 = QRM_punc_std_circuit(r, m)\n",
    "\n",
    "G = get_QRM_punc_generator((r, m), (r, m))\n",
    "c2, i = canonical_CSS(G, (2**m)-1)\n",
    "\n",
    "print(get_qiskit_circuit(c), get_qiskit_circuit(c2))\n",
    "tequila.simulate(c)\n",
    "print(check_if_same_circuit(c, c2))"
   ]
  },
  {
   "cell_type": "code",
   "execution_count": 5,
   "metadata": {},
   "outputs": [
    {
     "name": "stdout",
     "output_type": "stream",
     "text": [
      "+0.3536|0000000> +0.3536|0111100> +0.3536|1011010> +0.3536|1100110> +0.3536|1101001> +0.3536|1010101> +0.3536|0110011> +0.3536|0001111>  \n",
      " +0.3536|0000000> +0.3536|0111100> +0.3536|1101010> +0.3536|1010110> +0.3536|1011001> +0.3536|1100101> +0.3536|0110011> +0.3536|0001111> \n"
     ]
    }
   ],
   "source": [
    "print(tequila.simulate(c),'\\n', tequila.simulate(c2))"
   ]
  },
  {
   "cell_type": "code",
   "execution_count": 5,
   "metadata": {},
   "outputs": [
    {
     "name": "stdout",
     "output_type": "stream",
     "text": [
      "                                                                       \n",
      " q_0: ──────────────────────■────────────────────────■────■────────────\n",
      "                            │                        │  ┌─┴─┐          \n",
      " q_1: ──■───────────────────┼────■──────────────■────┼──┤ X ├──────────\n",
      "        │                   │    │              │  ┌─┴─┐└───┘          \n",
      " q_2: ──┼────■──────────────┼────┼─────────■────┼──┤ X ├──■────────────\n",
      "        │    │              │    │         │  ┌─┴─┐└───┘┌─┴─┐          \n",
      " q_3: ──┼────┼────■─────────┼────┼────■────┼──┤ X ├─────┤ X ├──────────\n",
      "        │    │    │       ┌─┴─┐  │    │    │  └───┘     └───┘          \n",
      " q_4: ──┼────┼────┼────■──┤ X ├──┼────┼────┼─────────■────■────────────\n",
      "        │    │    │    │  └───┘┌─┴─┐  │    │         │  ┌─┴─┐          \n",
      " q_5: ──┼────┼────┼────┼────■──┤ X ├──┼────┼────■────┼──┤ X ├──────────\n",
      "        │    │    │    │    │  └───┘  │  ┌─┴─┐  │  ┌─┴─┐└───┘          \n",
      " q_6: ──┼────┼────┼────┼────┼────■────┼──┤ X ├──┼──┤ X ├──■────────────\n",
      "        │    │    │    │    │    │  ┌─┴─┐└───┘┌─┴─┐└───┘┌─┴─┐          \n",
      " q_7: ──┼────┼────┼────┼────┼────┼──┤ X ├─────┤ X ├─────┤ X ├──────────\n",
      "        │    │    │    │    │    │  └───┘     └───┘     └───┘          \n",
      " q_8: ──┼────┼────┼────┼────┼────┼────■──────────────■─────────■───────\n",
      "      ┌─┴─┐  │    │    │    │    │    │              │       ┌─┴─┐     \n",
      " q_9: ┤ X ├──┼────┼────┼────┼────┼────┼────■─────────┼────■──┤ X ├─────\n",
      "      └───┘┌─┴─┐  │    │    │    │    │    │       ┌─┴─┐  │  └───┘     \n",
      "q_10: ─────┤ X ├──┼────┼────┼────┼────┼────┼────■──┤ X ├──┼────■───────\n",
      "           └───┘┌─┴─┐  │    │    │    │    │    │  └───┘┌─┴─┐┌─┴─┐     \n",
      "q_11: ──────────┤ X ├──┼────┼────┼────┼────┼────┼────■──┤ X ├┤ X ├─────\n",
      "                └───┘┌─┴─┐  │    │  ┌─┴─┐  │    │    │  └───┘└───┘     \n",
      "q_12: ───────────────┤ X ├──┼────┼──┤ X ├──┼────┼────┼────■─────────■──\n",
      "                     └───┘┌─┴─┐  │  └───┘┌─┴─┐  │    │    │       ┌─┴─┐\n",
      "q_13: ────────────────────┤ X ├──┼───────┤ X ├──┼────┼────┼────■──┤ X ├\n",
      "                          └───┘┌─┴─┐     └───┘┌─┴─┐  │  ┌─┴─┐  │  └───┘\n",
      "q_14: ─────────────────────────┤ X ├──────────┤ X ├──┼──┤ X ├──┼────■──\n",
      "                               └───┘          └───┘┌─┴─┐└───┘┌─┴─┐┌─┴─┐\n",
      "q_15: ─────────────────────────────────────────────┤ X ├─────┤ X ├┤ X ├\n",
      "                                                   └───┘     └───┘└───┘\n",
      "c: 16/═════════════════════════════════════════════════════════════════\n",
      "                                                                       \n",
      "30\n",
      "30\n",
      "+1.0000|0000000000000000> \n"
     ]
    }
   ],
   "source": [
    "from qrm_circuits import QRM_rec_circuit, QRM_rec_assym_circuit\n",
    "from qrm_utils import get_qiskit_circuit\n",
    "from qrm_counts import rec_CX_count_assym, rec_CX_count\n",
    "import tequila\n",
    "r, m = 2, 4\n",
    "c, i = QRM_rec_circuit(r, m, only_cnots=True)\n",
    "print(get_qiskit_circuit(c))\n",
    "print(len(c.gates))\n",
    "print(rec_CX_count(r, m))\n",
    "print(tequila.simulate(c))"
   ]
  },
  {
   "cell_type": "code",
   "execution_count": 5,
   "metadata": {},
   "outputs": [
    {
     "name": "stdout",
     "output_type": "stream",
     "text": [
      "                                   \n",
      "q_0: ──■───────────────────■────■──\n",
      "       │                   │  ┌─┴─┐\n",
      "q_1: ──┼────■─────────■────┼──┤ X ├\n",
      "       │    │         │  ┌─┴─┐└───┘\n",
      "q_2: ──┼────┼────■────┼──┤ X ├──■──\n",
      "       │    │    │  ┌─┴─┐└───┘┌─┴─┐\n",
      "q_3: ──┼────┼────┼──┤ X ├─────┤ X ├\n",
      "     ┌─┴─┐  │    │  └───┘     └───┘\n",
      "q_4: ┤ X ├──┼────┼────■─────────■──\n",
      "     └───┘┌─┴─┐  │    │       ┌─┴─┐\n",
      "q_5: ─────┤ X ├──┼────┼────■──┤ X ├\n",
      "          └───┘┌─┴─┐┌─┴─┐  │  └───┘\n",
      "q_6: ──────────┤ X ├┤ X ├──┼────■──\n",
      "               └───┘└───┘┌─┴─┐┌─┴─┐\n",
      "q_7: ────────────────────┤ X ├┤ X ├\n",
      "                         └───┘└───┘\n",
      "c: 8/══════════════════════════════\n",
      "                                   \n",
      "11\n"
     ]
    }
   ],
   "source": [
    "from qrm_circuits import QRM_rec_classical_circuit, QRM_rec_circuit\n",
    "from qrm_utils import get_qiskit_circuit\n",
    "\n",
    "c, i = QRM_rec_classical_circuit(1, 3)\n",
    "print(get_qiskit_circuit(c))\n",
    "print(len(c.gates))"
   ]
  },
  {
   "cell_type": "code",
   "execution_count": 2,
   "metadata": {},
   "outputs": [
    {
     "name": "stdout",
     "output_type": "stream",
     "text": [
      "[[1, 1, 1, 1, 1, 1, 1, 1, 1, 1, 1, 1, 1, 1, 1], [1, 0, 1, 0, 1, 0, 1, 0, 1, 0, 1, 0, 1, 0, 1], [0, 1, 1, 0, 0, 1, 1, 0, 0, 1, 1, 0, 0, 1, 1], [0, 0, 0, 1, 1, 1, 1, 0, 0, 0, 0, 1, 1, 1, 1], [0, 0, 0, 0, 0, 0, 0, 1, 1, 1, 1, 1, 1, 1, 1]]\n"
     ]
    },
    {
     "data": {
      "text/plain": [
       "([[1, 0, 1, 0, 1, 0, 1, 0, 1, 0, 1, 0, 1, 0, 1],\n",
       "  [0, 1, 1, 0, 0, 1, 1, 0, 0, 1, 1, 0, 0, 1, 1],\n",
       "  [0, 0, 0, 1, 1, 1, 1, 0, 0, 0, 0, 1, 1, 1, 1],\n",
       "  [0, 0, 0, 0, 0, 0, 0, 1, 1, 1, 1, 1, 1, 1, 1]],\n",
       " [[0, 0, 1, 0, 0, 0, 1, 0, 0, 0, 1, 0, 0, 0, 1],\n",
       "  [0, 0, 0, 0, 1, 0, 1, 0, 0, 0, 0, 0, 1, 0, 1],\n",
       "  [0, 0, 0, 0, 0, 1, 1, 0, 0, 0, 0, 0, 0, 1, 1],\n",
       "  [0, 0, 0, 0, 0, 0, 0, 0, 1, 0, 1, 0, 1, 0, 1],\n",
       "  [0, 0, 0, 0, 0, 0, 0, 0, 0, 1, 1, 0, 0, 1, 1],\n",
       "  [0, 0, 0, 0, 0, 0, 0, 0, 0, 0, 0, 1, 1, 1, 1],\n",
       "  [1, 1, 1, 1, 1, 1, 1, 1, 1, 1, 1, 1, 1, 1, 1]])"
      ]
     },
     "execution_count": 2,
     "metadata": {},
     "output_type": "execute_result"
    }
   ],
   "source": [
    "from qrm_matrices import get_QRM_generator\n",
    "from qrm_utils import *\n",
    "\n",
    "def get_QRM_punc_generator(C1_params: tuple, C2_params: tuple):\n",
    "    G2perp, G1q = get_QRM_generator(C1_params=C1_params, C2_params=C2_params)\n",
    "    G2perpt = puncture_matrix(G2perp)\n",
    "    G1qp = puncture_matrix(G1q)\n",
    "    print(G2perpt)\n",
    "    G2perpp = []\n",
    "    for row in G2perpt:\n",
    "        if np.sum(row) != len(row):\n",
    "            G2perpp.append(row)\n",
    "        else:\n",
    "            G1qp.append(row)\n",
    "    return (G2perpp, G1qp)\n",
    "\n",
    "get_QRM_punc_generator((2, 4), (2, 4))"
   ]
  },
  {
   "cell_type": "code",
   "execution_count": 4,
   "metadata": {},
   "outputs": [
    {
     "name": "stdout",
     "output_type": "stream",
     "text": [
      "None       ┌───┐                                                                 \n",
      " q_0: ┤ H ├─────────────────────────────────────■───────────────────■────■──\n",
      "      ├───┤                                     │                   │  ┌─┴─┐\n",
      " q_1: ┤ H ├─────────────────■───────────────────┼────■─────────■────┼──┤ X ├\n",
      "      ├───┤                 │                   │    │         │  ┌─┴─┐└───┘\n",
      " q_2: ┤ H ├─────────────────┼────■──────────────┼────┼────■────┼──┤ X ├──■──\n",
      "      └───┘                 │    │              │    │    │  ┌─┴─┐└───┘┌─┴─┐\n",
      " q_3: ───────■──────────────┼────┼────■─────────┼────┼────┼──┤ X ├─────┤ X ├\n",
      "      ┌───┐  │              │    │    │       ┌─┴─┐  │    │  └───┘     └───┘\n",
      " q_4: ┤ H ├──┼──────────────┼────┼────┼────■──┤ X ├──┼────┼─────────■────■──\n",
      "      └───┘  │              │    │    │    │  └───┘┌─┴─┐  │         │  ┌─┴─┐\n",
      " q_5: ───────┼────■─────────┼────┼────┼────┼───────┤ X ├──┼────■────┼──┤ X ├\n",
      "             │    │         │    │    │    │       └───┘┌─┴─┐  │  ┌─┴─┐└───┘\n",
      " q_6: ───────┼────┼────■────┼────┼────┼────┼────────────┤ X ├──┼──┤ X ├──■──\n",
      "             │    │    │    │    │  ┌─┴─┐  │            └───┘┌─┴─┐└───┘┌─┴─┐\n",
      " q_7: ───────┼────┼────┼────┼────┼──┤ X ├──┼─────────────────┤ X ├─────┤ X ├\n",
      "      ┌───┐  │    │    │    │    │  └───┘  │                 └───┘     └───┘\n",
      " q_8: ┤ H ├──┼────┼────┼────┼────┼─────────┼────■─────────■─────────■───────\n",
      "      └───┘  │    │    │  ┌─┴─┐  │         │    │         │       ┌─┴─┐     \n",
      " q_9: ───────┼────┼────┼──┤ X ├──┼────■────┼────┼─────────┼────■──┤ X ├─────\n",
      "             │    │    │  └───┘┌─┴─┐  │    │    │       ┌─┴─┐  │  └───┘     \n",
      "q_10: ───────┼────┼────┼───────┤ X ├──┼────┼────┼────■──┤ X ├──┼────■───────\n",
      "           ┌─┴─┐  │    │       └───┘  │    │    │    │  └───┘┌─┴─┐┌─┴─┐     \n",
      "q_11: ─────┤ X ├──┼────┼────■─────────┼────┼────┼────┼───────┤ X ├┤ X ├─────\n",
      "           └───┘  │    │    │         │  ┌─┴─┐┌─┴─┐  │       └───┘└───┘     \n",
      "q_12: ────────────┼────┼────┼─────────┼──┤ X ├┤ X ├──┼────■────■────────────\n",
      "                ┌─┴─┐  │    │       ┌─┴─┐└───┘└───┘  │    │  ┌─┴─┐          \n",
      "q_13: ──────────┤ X ├──┼────┼───────┤ X ├──■─────────┼────┼──┤ X ├──────────\n",
      "                └───┘┌─┴─┐  │       └───┘  │       ┌─┴─┐┌─┴─┐└───┘          \n",
      "q_14: ───────────────┤ X ├──┼──────────────┼───────┤ X ├┤ X ├──■────────────\n",
      "                     └───┘┌─┴─┐          ┌─┴─┐     └───┘└───┘┌─┴─┐          \n",
      "q_15: ────────────────────┤ X ├──────────┤ X ├───────────────┤ X ├──────────\n",
      "                          └───┘          └───┘               └───┘          \n",
      "c: 16/══════════════════════════════════════════════════════════════════════\n",
      "                                                                             5 35\n"
     ]
    },
    {
     "data": {
      "text/plain": [
       "True"
      ]
     },
     "execution_count": 4,
     "metadata": {},
     "output_type": "execute_result"
    }
   ],
   "source": [
    "#CSS encoders\n",
    "import tequila\n",
    "from qrm_circuits import QRM_std_circuit, QRM_rec_circuit\n",
    "from qrm_utils import *\n",
    "from qrm_circuits import QRM_std_circuit\n",
    "from qrm_matrices import *\n",
    "\n",
    "#need to generalize stuff\n",
    "r, m = 2, 4\n",
    "circuit, info = QRM_rec_circuit(r, m, partitions=[1, [1], [1]])\n",
    "std_circuit, info2 = QRM_std_circuit(r, m)\n",
    "qiskit_cir = get_qiskit_circuit(circuit)\n",
    "print(info, qiskit_cir, circuit.depth, len(circuit.gates))\n",
    "check_if_same_circuit(circuit, std_circuit)"
   ]
  },
  {
   "cell_type": "code",
   "execution_count": 1,
   "metadata": {},
   "outputs": [
    {
     "name": "stdout",
     "output_type": "stream",
     "text": [
      "66 33\n"
     ]
    },
    {
     "data": {
      "text/plain": [
       "True"
      ]
     },
     "execution_count": 1,
     "metadata": {},
     "output_type": "execute_result"
    }
   ],
   "source": [
    "import tequila\n",
    "from qrm_circuits import QRM_rec_circuit, QRM_std_circuit\n",
    "only_cnots = False\n",
    "circuit, info1 = QRM_rec_circuit(3, 4, only_cnots=only_cnots)\n",
    "circuit_std, info2 = QRM_std_circuit(3, 4, only_cnots=only_cnots, transform_rows=False)\n",
    "msg = tequila.QCircuit()\n",
    "\n",
    "msg += tequila.gates.H(target=info1[0][0])\n",
    "msg += tequila.gates.CX(target=info1[0][1], control=info1[0][0])\n",
    "print(len(circuit_std.gates), len(circuit.gates))\n",
    "from qrm_utils import check_if_same_circuit\n",
    "\n",
    "check_if_same_circuit(msg + circuit, msg + circuit_std)"
   ]
  },
  {
   "cell_type": "code",
   "execution_count": 4,
   "metadata": {},
   "outputs": [
    {
     "ename": "ImportError",
     "evalue": "attempted relative import with no known parent package",
     "output_type": "error",
     "traceback": [
      "\u001b[0;31m---------------------------------------------------------------------------\u001b[0m",
      "\u001b[0;31mImportError\u001b[0m                               Traceback (most recent call last)",
      "\u001b[1;32m/Users/praveenjayakumar/Jay Family Dropbox/praveen jayakumar/6.To-Fro Praveen/UToronto/codes backup/projects/QRM/QRM.ipynb Cell 3\u001b[0m in \u001b[0;36m1\n\u001b[1;32m     <a href='vscode-notebook-cell:/Users/praveenjayakumar/Jay%20Family%20Dropbox/praveen%20jayakumar/6.To-Fro%20Praveen/UToronto/codes%20backup/projects/QRM/QRM.ipynb#W6sZmlsZQ%3D%3D?line=13'>14</a>\u001b[0m BH \u001b[39m=\u001b[39m BinaryHamiltonian(binary_terms\u001b[39m=\u001b[39mbps)\n\u001b[1;32m     <a href='vscode-notebook-cell:/Users/praveenjayakumar/Jay%20Family%20Dropbox/praveen%20jayakumar/6.To-Fro%20Praveen/UToronto/codes%20backup/projects/QRM/QRM.ipynb#W6sZmlsZQ%3D%3D?line=15'>16</a>\u001b[0m stuff \u001b[39m=\u001b[39m BH\u001b[39m.\u001b[39mget_qubit_wise()\n\u001b[0;32m---> <a href='vscode-notebook-cell:/Users/praveenjayakumar/Jay%20Family%20Dropbox/praveen%20jayakumar/6.To-Fro%20Praveen/UToronto/codes%20backup/projects/QRM/QRM.ipynb#W6sZmlsZQ%3D%3D?line=17'>18</a>\u001b[0m \u001b[39mfrom\u001b[39;00m \u001b[39m.\u001b[39;00m\u001b[39mmitigation\u001b[39;00m\u001b[39m.\u001b[39;00m\u001b[39mfff_stuff\u001b[39;00m \u001b[39mimport\u001b[39;00m transpile_circuits\n\u001b[1;32m     <a href='vscode-notebook-cell:/Users/praveenjayakumar/Jay%20Family%20Dropbox/praveen%20jayakumar/6.To-Fro%20Praveen/UToronto/codes%20backup/projects/QRM/QRM.ipynb#W6sZmlsZQ%3D%3D?line=19'>20</a>\u001b[0m transpile_circuits(stuff)\n",
      "\u001b[0;31mImportError\u001b[0m: attempted relative import with no known parent package"
     ]
    }
   ],
   "source": [
    "#generate check matrix and find the diagonalizing circuit\n",
    "from qrm_matrices import *\n",
    "r, m = (2, 3)\n",
    "G = Grm(r, m)\n",
    "H = Hrm(r, m)\n",
    "#HCSS = \n",
    "\n",
    "import tequila\n",
    "from tequila.grouping.binary_rep import BinaryPauliString, BinaryHamiltonian\n",
    "\n",
    "H = Hqrm(1, 3)\n",
    "\n",
    "bps = [BinaryPauliString(binary_vector=bv, coeff=1.0) for bv in H]\n",
    "BH = BinaryHamiltonian(binary_terms=bps)\n",
    "\n",
    "stuff = BH.get_qubit_wise()"
   ]
  }
 ],
 "metadata": {
  "kernelspec": {
   "display_name": "res3",
   "language": "python",
   "name": "python3"
  },
  "language_info": {
   "codemirror_mode": {
    "name": "ipython",
    "version": 3
   },
   "file_extension": ".py",
   "mimetype": "text/x-python",
   "name": "python",
   "nbconvert_exporter": "python",
   "pygments_lexer": "ipython3",
   "version": "3.11.3"
  },
  "orig_nbformat": 4,
  "vscode": {
   "interpreter": {
    "hash": "1cbb96700004a34b5b75f3b1f67fc325a248128bb0bc7375b13065a45acdb7c7"
   }
  }
 },
 "nbformat": 4,
 "nbformat_minor": 2
}
